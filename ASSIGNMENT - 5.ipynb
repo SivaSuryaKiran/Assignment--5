{
 "cells": [
  {
   "cell_type": "raw",
   "id": "7ad7cf08",
   "metadata": {},
   "source": [
    "1.a)\n",
    "\n",
    "Empty dictionary look like   {}  (empty set). "
   ]
  },
  {
   "cell_type": "raw",
   "id": "9bc13dbb",
   "metadata": {},
   "source": [
    "2.a)\n",
    "\n",
    "The value is {'foo':42}"
   ]
  },
  {
   "cell_type": "raw",
   "id": "b62963f2",
   "metadata": {},
   "source": [
    "3.a)\n",
    "\n",
    "Elements in list can accessed with their index.\n",
    "whereas in Ditionary elements are accessed by the keys."
   ]
  },
  {
   "cell_type": "raw",
   "id": "d872b6d2",
   "metadata": {},
   "source": [
    "4.a)\n",
    "\n",
    "It will throw an key error."
   ]
  },
  {
   "cell_type": "raw",
   "id": "9dee6dc0",
   "metadata": {},
   "source": [
    "5.a)\n",
    "\n",
    "'cat' in spam checks if there is a key called 'cat' in the Dictionary.\n",
    "'cat' in spam.keys() checks if there is a key with name 'cat' in Dictionary.\n"
   ]
  },
  {
   "cell_type": "raw",
   "id": "e00468bf",
   "metadata": {},
   "source": [
    "6.a)\n",
    "'cat' in spam checks if there is a key called 'cat' in the Dictionary.\n",
    "'cat' in spam checks if there is a value 'cat' in the dictionary."
   ]
  },
  {
   "cell_type": "raw",
   "id": "510f19fc",
   "metadata": {},
   "source": [
    "7.a)\n",
    "\n",
    "spam.setdefault('color', 'black')"
   ]
  },
  {
   "cell_type": "raw",
   "id": "794510ea",
   "metadata": {},
   "source": [
    "8.a)\n",
    "By importing pprint \n",
    "pprint.pprint()"
   ]
  }
 ],
 "metadata": {
  "kernelspec": {
   "display_name": "Python 3 (ipykernel)",
   "language": "python",
   "name": "python3"
  },
  "language_info": {
   "codemirror_mode": {
    "name": "ipython",
    "version": 3
   },
   "file_extension": ".py",
   "mimetype": "text/x-python",
   "name": "python",
   "nbconvert_exporter": "python",
   "pygments_lexer": "ipython3",
   "version": "3.9.7"
  }
 },
 "nbformat": 4,
 "nbformat_minor": 5
}
